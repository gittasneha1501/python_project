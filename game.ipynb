{
  "nbformat": 4,
  "nbformat_minor": 0,
  "metadata": {
    "colab": {
      "provenance": []
    },
    "kernelspec": {
      "name": "python3",
      "display_name": "Python 3"
    },
    "language_info": {
      "name": "python"
    }
  },
  "cells": [
    {
      "cell_type": "code",
      "source": [
        "\n",
        "\n",
        "def get_user():\n",
        "    #Function to get the user's choice (rock, paper, or scissors).\n",
        "    user= input(\"Enter your choice: \")\n",
        "    while user not in ['rock', 'paper', 'scissor']:\n",
        "        print(\"Invalid choice. Please enter rock, paper, or scissor.\")\n",
        "        user= input(\"Enter your choice: \")\n",
        "    return user\n",
        "\n",
        "def get_computer():\n",
        "  #Function to generate the computer's choice (rock, paper, or scissor).\n",
        "    return random.choice(['rock', 'paper', 'scissor'])\n",
        "\n",
        "def winner(user, computer):\n",
        "    #Function to determine the winner of the game.\n",
        "    if user == computer:\n",
        "        return \"you win!\"\n",
        "    else:\n",
        "        return \"computer win!\"\n",
        "\n",
        "def play_game():\n",
        "    #Function to play the rock-paper-scissor game.\n",
        "    print(\"Welcome to Rock-Paper-Scissor!\")\n",
        "    while True:\n",
        "        user= get_user()\n",
        "        computer= get_computer()\n",
        "        print(\"You chose:\", user)\n",
        "        print(\"Computer chose:\", computer)\n",
        "        print(winner(user, computer))\n",
        "        play_again = input(\"Do you want to play again? (yes/no): \")\n",
        "        if play_again != 'yes':\n",
        "            print(\"Thanks for playing!\")\n",
        "            break\n",
        "\n",
        "\n",
        "# Run the game\n",
        "play_game()"
      ],
      "metadata": {
        "colab": {
          "base_uri": "https://localhost:8080/"
        },
        "id": "cPe7LEAN0fDr",
        "outputId": "b3d7570d-24c6-4939-e1bf-d099c0d51f6e"
      },
      "execution_count": null,
      "outputs": [
        {
          "output_type": "stream",
          "name": "stdout",
          "text": [
            "Welcome to Rock-Paper-Scissor!\n",
            "Enter your choice: paper\n",
            "You chose: paper\n",
            "Computer chose: paper\n",
            "you win!\n",
            "Do you want to play again? (yes/no): no\n",
            "Thanks for playing!\n"
          ]
        }
      ]
    },
    {
      "cell_type": "code",
      "source": [],
      "metadata": {
        "id": "_Tb6skjq9Csc"
      },
      "execution_count": null,
      "outputs": []
    }
  ]
}