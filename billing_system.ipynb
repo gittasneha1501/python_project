{
  "nbformat": 4,
  "nbformat_minor": 0,
  "metadata": {
    "colab": {
      "provenance": []
    },
    "kernelspec": {
      "name": "python3",
      "display_name": "Python 3"
    },
    "language_info": {
      "name": "python"
    }
  },
  "cells": [
    {
      "cell_type": "code",
      "source": [
        "x='restaurent'\n",
        "y='hitech_city'\n",
        "print(x.upper())\n",
        "print(y.upper())\n",
        "restaurent=[1,2,3,4,5,6,7]\n",
        "order=int(input('enter your order: '))\n",
        "for items in restaurent:\n",
        "  if(order==1):\n",
        "    print('order is:','chicken_biryani')\n",
        "    print('rs:',130)\n",
        "    break\n",
        "  elif(order==2):\n",
        "     print('order is:','mutton_biryani')\n",
        "     print('rs:',200)\n",
        "     break\n",
        "  elif(order==3):\n",
        "     print('order is:','panner_tikka')\n",
        "     print('rs:',130)\n",
        "     break\n",
        "  elif(order==4):\n",
        "     print('order is:','veg_biryani')\n",
        "     print('rs:',110)\n",
        "     break\n",
        "  elif(order==5):\n",
        "     print('order is:','fish_biryani')\n",
        "     print('rs:',150)\n",
        "     break\n",
        "  elif(order==6):\n",
        "     print('order is:','prawns_biryani')\n",
        "     print('rs:',130)\n",
        "     break\n",
        "  if(order==7):\n",
        "     print('order is:','watter_bottle')\n",
        "     print('rs:',20)\n",
        "     break\n",
        "qty=int(input('enter your qty: '))\n",
        "price=int(input('enter price in rs:'))\n",
        "def amount(qty,price):\n",
        "  total_amount=qty*price\n",
        "  return total_amount\n",
        "total_amount=amount(qty,price)\n",
        "print('order_price:',total_amount)\n",
        "final_price=total_amount+total_amount*5/100\n",
        "print('final_price:',final_price)\n",
        "print('gst,cgst:5%')\n",
        "print('thank you so much for dining with us today'.lower())\n",
        "print('visit again'.upper())"
      ],
      "metadata": {
        "id": "hYaFne9Hlh6f",
        "colab": {
          "base_uri": "https://localhost:8080/"
        },
        "outputId": "e3b86049-6b66-4c2b-80f6-730aa6a8a466"
      },
      "execution_count": null,
      "outputs": [
        {
          "output_type": "stream",
          "name": "stdout",
          "text": [
            "RESTAURENT\n",
            "HITECH_CITY\n",
            "enter your order: 2\n",
            "order is: mutton_biryani\n",
            "rs: 200\n",
            "enter your qty: 3\n",
            "enter price in rs:200\n",
            "order_price: 600\n",
            "final_price: 630.0\n",
            "gst,cgst:5%\n",
            "thank you so much for dining with us today\n",
            "VISIT AGAIN\n"
          ]
        }
      ]
    }
  ]
}